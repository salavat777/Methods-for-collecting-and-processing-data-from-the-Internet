{
 "cells": [
  {
   "cell_type": "code",
   "execution_count": 7,
   "id": "a15b882d",
   "metadata": {},
   "outputs": [],
   "source": [
    "import requests\n",
    "from pprint import pprint\n",
    "import json"
   ]
  },
  {
   "cell_type": "code",
   "execution_count": 8,
   "id": "f50863c9",
   "metadata": {},
   "outputs": [
    {
     "name": "stdout",
     "output_type": "stream",
     "text": [
      "{'response': {'count': 3,\n",
      "              'items': [{'id': 28688150,\n",
      "                         'is_admin': 0,\n",
      "                         'is_advertiser': 0,\n",
      "                         'is_closed': 0,\n",
      "                         'is_member': 1,\n",
      "                         'name': '[◉VHS◉] HORROR 80 © ФИЛЬМЫ УЖАСОВ 70, 80, '\n",
      "                                 '90-х',\n",
      "                         'photo_100': 'https://sun1.sibirix.userapi.com/s/v1/ig1/AjpKus2DLVsV9KKG_XYnEPWgmPuNAFfn7bfkc1z6Ue2oPzv8A2m1HUXqKbljk587vAszBrH5.jpg?size=100x100&quality=96&crop=14,0,326,326&ava=1',\n",
      "                         'photo_200': 'https://sun1.sibirix.userapi.com/s/v1/ig1/XCKLKVQhTfbDVCkrmp7_0wNun4sxnisa6iDVNTtxHqkejm8RFQN4_2StbgsXHXdUgIpk0MG_.jpg?size=200x200&quality=96&crop=14,0,326,326&ava=1',\n",
      "                         'photo_50': 'https://sun1.sibirix.userapi.com/s/v1/ig1/HICfWba11-gsaVv9k3hnncOQJ3b-rm0c6Q4xEyIdyi5MZCEpMj5kz30IgIJrmiJ8S3mEiK2_.jpg?size=50x50&quality=96&crop=14,0,326,326&ava=1',\n",
      "                         'screen_name': 'horror80',\n",
      "                         'type': 'group'},\n",
      "                        {'id': 151918769,\n",
      "                         'is_admin': 0,\n",
      "                         'is_advertiser': 0,\n",
      "                         'is_closed': 0,\n",
      "                         'is_member': 1,\n",
      "                         'name': 'Маркеловский продукт',\n",
      "                         'photo_100': 'https://sun2.sibirix.userapi.com/s/v1/ig2/q4TMjkdJD1ODTFvwDaQ18fD9sBmg1opFy3K0M0p5CPyzdWcXgYURAl4ejzB-RY2NkiSmYULkMWjhYodZkS4sqHZ-.jpg?size=100x100&quality=95&crop=148,122,1126,1126&ava=1',\n",
      "                         'photo_200': 'https://sun2.sibirix.userapi.com/s/v1/ig2/QGXqBhwtzkz5-jv60IZ7GaouaZbIbp-BmAimScLgW4Et950RZxIFecw0erTVgeCe1JZZGfjdZGGwZsVY_cqKrXH4.jpg?size=200x200&quality=95&crop=148,122,1126,1126&ava=1',\n",
      "                         'photo_50': 'https://sun2.sibirix.userapi.com/s/v1/ig2/MRINpw86v5codCuKa_IQykCDABSMdcKvMdkgZnq32YT8J_JPTXy2sk5VB8vwjHG5L_uZvCUmwPBvvMYYvXa0Z8R7.jpg?size=50x50&quality=95&crop=148,122,1126,1126&ava=1',\n",
      "                         'screen_name': 'markeloil',\n",
      "                         'type': 'group'},\n",
      "                        {'id': 184241776,\n",
      "                         'is_admin': 0,\n",
      "                         'is_advertiser': 0,\n",
      "                         'is_closed': 1,\n",
      "                         'is_member': 1,\n",
      "                         'name': 'Олимпиада',\n",
      "                         'photo_100': 'https://sun2.sibirix.userapi.com/s/v1/if1/Xx8QeiyZ4fmc7djuqpqfbnLszZQf84RkKfzWS0Xy4kXCR6ECFd9wEpKieYdl_Im1UxqLf10n.jpg?size=100x100&quality=96&crop=140,222,1189,1189&ava=1',\n",
      "                         'photo_200': 'https://sun2.sibirix.userapi.com/s/v1/if1/c6_qh5-aVzRrDAECPxPlGGagCRxGzedBE56SMqXk3mM0y58sLHAnNfR9FwqX2W90FxLjxcMj.jpg?size=200x200&quality=96&crop=140,222,1189,1189&ava=1',\n",
      "                         'photo_50': 'https://sun2.sibirix.userapi.com/s/v1/if1/CMUVjdqdcXbTDF5rAAVJf27yHPlAS-e6ba2jjBmo9U9jNgraK0phZStw3JO-HDLe0XRizrVy.jpg?size=50x50&quality=96&crop=140,222,1189,1189&ava=1',\n",
      "                         'screen_name': 'club184241776',\n",
      "                         'type': 'group'}]}}\n"
     ]
    }
   ],
   "source": [
    "userid = ''\n",
    "url = 'https://api.vk.com/method/groups.get'\n",
    "params = {\n",
    "    'access_token': 'vk1.a.Am**********************************Vw',\n",
    "    'user_ids': '556755283',\n",
    "    'v': '5.131',\n",
    "    'extended': '1'\n",
    "          }\n",
    "req = requests.get(url=url, params=params)\n",
    "data = req.json()\n",
    "with open('vk_groups.json', 'w') as f:\n",
    "    json.dump(data, f)\n",
    "with open('vk_groups.json') as f:\n",
    "    data2 = json.load(f)\n",
    "pprint(data2)"
   ]
  },
  {
   "cell_type": "code",
   "execution_count": null,
   "id": "d03c12d4",
   "metadata": {},
   "outputs": [],
   "source": []
  }
 ],
 "metadata": {
  "kernelspec": {
   "display_name": "Python 3 (ipykernel)",
   "language": "python",
   "name": "python3"
  },
  "language_info": {
   "codemirror_mode": {
    "name": "ipython",
    "version": 3
   },
   "file_extension": ".py",
   "mimetype": "text/x-python",
   "name": "python",
   "nbconvert_exporter": "python",
   "pygments_lexer": "ipython3",
   "version": "3.10.0"
  }
 },
 "nbformat": 4,
 "nbformat_minor": 5
}
